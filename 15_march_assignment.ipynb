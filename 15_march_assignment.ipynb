{
 "cells": [
  {
   "cell_type": "code",
   "execution_count": 6,
   "id": "dc907daf-d759-4d8a-a4cc-5ce2ed5dc0c6",
   "metadata": {},
   "outputs": [
    {
     "data": {
      "text/plain": [
       "\" \\nAnswer : 1\\n\\n     1) Artificial Intelligence \\n       AI refers to the simulation of human intelligence in machines that are programmed to think and learn like humans.\\n       example: Google assistant respond on our instruction and suggest his views.\\n      \\n      2) Machine Learning\\n         ML is subset of AI that that is used to develop algorithm and stats model that predict decision according to requirement \\n         with the usage of data available.\\n         example: Recommendation on YouTube.\\n         \\n      3) Deep Learning\\n         DL is a subfield of ML that utilizes neural networks with multiple layers to  model and solve complex tasks\\n         example: CNN in image recognition.\\n         \\nAnswer: 2\\n       \\n       Supervised learning is a type of machine learning where an algorithm learns from labeled training data to make predictions or\\n       decisions without human intervention. In supervised learning, the algorithm is provided with input-output pairs.\\n       example: House with different rooms have different cost. Here rooms are input and output is cost based on rooms available.\\n       \\nAnswer: 3\\n\\n        Unsupervised learning is a type of machine learning where the algorithm learns from unlabeled data, trying to find hidden\\n        patterns or structure within the data without explicit guidance. It involves clustering, dimensionality reduction, and \\n        density estimation.Unlike supervised learning, there are no predefined labels for the data, and the algorithm explores the \\n        data to discover relationships or groupings on its own.\\n        example: One common example of unsupervised learning is clustering, where the algorithm groups similar data points together.\\n        \\nAnswer: 4\\n        \\n       AI is a broad field of computer science that aims to create machines, systems, or software that can perform tasks that\\n       typically require human intelligence.\\n       \\n       ML is a subset of AI that focuses on developing algorithms and models that enable computers to learn from data and make\\n       predictions or decisions without explicit programming.\\n       \\n       DL is a specialized subfield of machine learning that employs neural networks with multiple layers (deep neural networks) to\\n       model and solve complex tasks.\\n        \\n       Data science is a multidisciplinary field that combines domain expertise, programming skills, and statistical knowledge to \\n       extract insights and knowledge from data.\\n       \\nAnswer: 5\\n        \\n       In supervised learning, the algorithm is trained on a dataset where each example is associated with a label or target variable. \\n       This means the algorithm is provided with input-output pairs.\\n        \\n       Unsupervised learning algorithms work with unlabeled data, meaning there are no target labels provided in the training dataset.\\n       \\n       Semi-supervised learning combines elements of both supervised and unsupervised learning. \\n       \\nAnswer: 6\\n     \\n       The training split is a subset of the dataset used to train the machine learning model. It contains both input data and their \\n       corresponding target labels (in supervised learning).\\n       \\n       The test split is another subset of the dataset that is not used during training. It is held out until the model is fully \\n       trained and is then used to evaluate the model's performance.\\n       \\n       The validation split is a subset of the dataset used during model development and hyperparameter tuning. It's used to fine-tune\\n       the model's parameters and select the best-performing model.\\n       \\nAnswer: 7\\n  \\n        Unsupervised learning can be effectively used in anomaly detection, which involves identifying rare and unusual patterns or \\n        outliers within a dataset.\\n       \\nAnswer: 8\\n    \\n        Linear Regression\\n        Logistic Regression\\n        Decision Tree\\n        Neural Network\\n        Naive Bayes\\n      \\n        \""
      ]
     },
     "execution_count": 6,
     "metadata": {},
     "output_type": "execute_result"
    }
   ],
   "source": [
    "\"\"\" \n",
    "Answer : 1\n",
    "\n",
    "     1) Artificial Intelligence \n",
    "       AI refers to the simulation of human intelligence in machines that are programmed to think and learn like humans.\n",
    "       example: Google assistant respond on our instruction and suggest his views.\n",
    "      \n",
    "      2) Machine Learning\n",
    "         ML is subset of AI that that is used to develop algorithm and stats model that predict decision according to requirement \n",
    "         with the usage of data available.\n",
    "         example: Recommendation on YouTube.\n",
    "         \n",
    "      3) Deep Learning\n",
    "         DL is a subfield of ML that utilizes neural networks with multiple layers to  model and solve complex tasks\n",
    "         example: CNN in image recognition.\n",
    "         \n",
    "Answer: 2\n",
    "       \n",
    "       Supervised learning is a type of machine learning where an algorithm learns from labeled training data to make predictions or\n",
    "       decisions without human intervention. In supervised learning, the algorithm is provided with input-output pairs.\n",
    "       example: House with different rooms have different cost. Here rooms are input and output is cost based on rooms available.\n",
    "       \n",
    "Answer: 3\n",
    "\n",
    "        Unsupervised learning is a type of machine learning where the algorithm learns from unlabeled data, trying to find hidden\n",
    "        patterns or structure within the data without explicit guidance. It involves clustering, dimensionality reduction, and \n",
    "        density estimation.Unlike supervised learning, there are no predefined labels for the data, and the algorithm explores the \n",
    "        data to discover relationships or groupings on its own.\n",
    "        example: One common example of unsupervised learning is clustering, where the algorithm groups similar data points together.\n",
    "        \n",
    "Answer: 4\n",
    "        \n",
    "       AI is a broad field of computer science that aims to create machines, systems, or software that can perform tasks that\n",
    "       typically require human intelligence.\n",
    "       \n",
    "       ML is a subset of AI that focuses on developing algorithms and models that enable computers to learn from data and make\n",
    "       predictions or decisions without explicit programming.\n",
    "       \n",
    "       DL is a specialized subfield of machine learning that employs neural networks with multiple layers (deep neural networks) to\n",
    "       model and solve complex tasks.\n",
    "        \n",
    "       Data science is a multidisciplinary field that combines domain expertise, programming skills, and statistical knowledge to \n",
    "       extract insights and knowledge from data.\n",
    "       \n",
    "Answer: 5\n",
    "        \n",
    "       In supervised learning, the algorithm is trained on a dataset where each example is associated with a label or target variable. \n",
    "       This means the algorithm is provided with input-output pairs.\n",
    "        \n",
    "       Unsupervised learning algorithms work with unlabeled data, meaning there are no target labels provided in the training dataset.\n",
    "       \n",
    "       Semi-supervised learning combines elements of both supervised and unsupervised learning. \n",
    "       \n",
    "Answer: 6\n",
    "     \n",
    "       The training split is a subset of the dataset used to train the machine learning model. It contains both input data and their \n",
    "       corresponding target labels (in supervised learning).\n",
    "       \n",
    "       The test split is another subset of the dataset that is not used during training. It is held out until the model is fully \n",
    "       trained and is then used to evaluate the model's performance.\n",
    "       \n",
    "       The validation split is a subset of the dataset used during model development and hyperparameter tuning. It's used to fine-tune\n",
    "       the model's parameters and select the best-performing model.\n",
    "       \n",
    "Answer: 7\n",
    "  \n",
    "        Unsupervised learning can be effectively used in anomaly detection, which involves identifying rare and unusual patterns or \n",
    "        outliers within a dataset.\n",
    "       \n",
    "Answer: 8\n",
    "    \n",
    "        Linear Regression\n",
    "        Logistic Regression\n",
    "        Decision Tree\n",
    "        Neural Network\n",
    "        Naive Bayes\n",
    "      \n",
    "        \"\"\""
   ]
  },
  {
   "cell_type": "code",
   "execution_count": null,
   "id": "bbfe3ffe-50d0-40a0-94f8-16b14b4de621",
   "metadata": {},
   "outputs": [],
   "source": []
  }
 ],
 "metadata": {
  "kernelspec": {
   "display_name": "Python 3 (ipykernel)",
   "language": "python",
   "name": "python3"
  },
  "language_info": {
   "codemirror_mode": {
    "name": "ipython",
    "version": 3
   },
   "file_extension": ".py",
   "mimetype": "text/x-python",
   "name": "python",
   "nbconvert_exporter": "python",
   "pygments_lexer": "ipython3",
   "version": "3.10.8"
  }
 },
 "nbformat": 4,
 "nbformat_minor": 5
}
